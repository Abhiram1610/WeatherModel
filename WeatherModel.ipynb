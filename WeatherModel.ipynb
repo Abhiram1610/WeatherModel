{
  "nbformat": 4,
  "nbformat_minor": 0,
  "metadata": {
    "colab": {
      "provenance": [],
      "authorship_tag": "ABX9TyPUzJLrndBtnM29Bvd6gRHK",
      "include_colab_link": true
    },
    "kernelspec": {
      "name": "python3",
      "display_name": "Python 3"
    },
    "language_info": {
      "name": "python"
    }
  },
  "cells": [
    {
      "cell_type": "markdown",
      "metadata": {
        "id": "view-in-github",
        "colab_type": "text"
      },
      "source": [
        "<a href=\"https://colab.research.google.com/github/Abhiram1610/WeatherModel/blob/main/WeatherModel.ipynb\" target=\"_parent\"><img src=\"https://colab.research.google.com/assets/colab-badge.svg\" alt=\"Open In Colab\"/></a>"
      ]
    },
    {
      "cell_type": "code",
      "execution_count": null,
      "metadata": {
        "id": "gqIDnWaRnDxy"
      },
      "outputs": [],
      "source": [
        "def Temp_modelling(a,b,c,time):\n",
        "  temp = a*time**2 + b*time + c\n",
        "  return temp"
      ]
    },
    {
      "cell_type": "code",
      "source": [
        "#Hardcoded Variables\n",
        "a,b,c=0,1,2\n",
        "time=5\n",
        "print(\"Harcoded variables ffor weather modelling\")\n",
        "print(\"Temperature for hardcoded variables temperature at time\",time,\"hours\",Temp_modelling(a,b,c,time))"
      ],
      "metadata": {
        "colab": {
          "base_uri": "https://localhost:8080/"
        },
        "id": "-rtEVnrCoPVf",
        "outputId": "bc8d3ddb-865c-45a3-f046-ef676593e952"
      },
      "execution_count": null,
      "outputs": [
        {
          "output_type": "stream",
          "name": "stdout",
          "text": [
            "Harcoded variables ffor weather modelling\n",
            "Temperature for hardcoded variables temperature at time 5 hours 7\n"
          ]
        }
      ]
    },
    {
      "cell_type": "code",
      "source": [
        "#Accepting variables via keyboard input\n",
        "a=float(input(\"Enter the value of a: \"))\n",
        "b=float(input(\"Enter the value of b: \"))\n",
        "c=float(input(\"Enter the value of c: \"))\n",
        "time=float(input(\"Enter the value of time: \"))"
      ],
      "metadata": {
        "colab": {
          "base_uri": "https://localhost:8080/"
        },
        "id": "drVNwKbfotgI",
        "outputId": "fff59df6-9b31-4940-df33-46d283fd000a"
      },
      "execution_count": null,
      "outputs": [
        {
          "name": "stdout",
          "output_type": "stream",
          "text": [
            "Enter the value of a: 0.2\n",
            "Enter the value of b: 2\n",
            "Enter the value of c: 25\n",
            "Enter the value of time: 7\n"
          ]
        }
      ]
    },
    {
      "cell_type": "code",
      "source": [
        "#variables from keyboard\n",
        "print(\"Hard coded variables for weather modelling\")\n",
        "print(\"Temperature for keyboard coefficients at time\",time,\"hours\",Temp_modelling(a,b,c,time))\n"
      ],
      "metadata": {
        "colab": {
          "base_uri": "https://localhost:8080/"
        },
        "id": "oY9Ja-kCpC24",
        "outputId": "f356c99e-0f10-4dbe-d917-78e8188ce275"
      },
      "execution_count": null,
      "outputs": [
        {
          "output_type": "stream",
          "name": "stdout",
          "text": [
            "Hard coded variables for weather modelling\n",
            "Temperature for keyboard coefficients at time 7.0 hours 48.8\n"
          ]
        }
      ]
    },
    {
      "cell_type": "code",
      "source": [
        "#read from file\n",
        "def read_from_file(filename):\n",
        "    with open(filename, 'r') as f:\n",
        "      lines=f.readlines()\n",
        "    coefficients = [tuple(map(float,line.strip().split(',')))for line in lines]\n",
        "    return coefficients"
      ],
      "metadata": {
        "id": "1rMbaZrHpIeA"
      },
      "execution_count": null,
      "outputs": []
    },
    {
      "cell_type": "code",
      "source": [
        "#example:solve for single set of inputs\n",
        "coefficients = read_from_file('/content/WeatherModel.txt')\n",
        "a,b,c,time=coefficients[0]\n",
        "temperature = Temp_modelling(a,b,c,time)\n",
        "print(\"Read from file\")\n",
        "print(\"Temperature for hardcoded variables temperature at time\",time,\"hours\",Temp_modelling(a,b,c,time))\n",
        "\n"
      ],
      "metadata": {
        "colab": {
          "base_uri": "https://localhost:8080/"
        },
        "id": "o9xNZe3ip39I",
        "outputId": "9d6457fa-682a-492f-b27c-d6f8fa9489db"
      },
      "execution_count": null,
      "outputs": [
        {
          "output_type": "stream",
          "name": "stdout",
          "text": [
            "Read from file\n",
            "Temperature for hardcoded variables temperature at time 5.0 hours 70.0\n"
          ]
        }
      ]
    },
    {
      "cell_type": "code",
      "source": [
        "#solve for all sets in the file\n",
        "for idx, (a,b,c,time) in enumerate(coefficients):\n",
        "  temp=Temp_modelling(a,b,c,time)\n",
        "  print(\"Temperature for hardcoded variables temperature at time\",time,\"hours\",Temp_modelling(a,b,c,time))"
      ],
      "metadata": {
        "colab": {
          "base_uri": "https://localhost:8080/"
        },
        "id": "OGgWJfYxqVAw",
        "outputId": "bdd95421-d719-41cf-ee01-4c19ed3a7a0a"
      },
      "execution_count": null,
      "outputs": [
        {
          "output_type": "stream",
          "name": "stdout",
          "text": [
            "Temperature for hardcoded variables temperature at time 5.0 hours 70.0\n",
            "Temperature for hardcoded variables temperature at time 3.0 hours 52.0\n",
            "Temperature for hardcoded variables temperature at time 5.0 hours 155.0\n"
          ]
        }
      ]
    },
    {
      "cell_type": "code",
      "source": [
        "from google.colab import drive\n",
        "drive.mount('/content/drive')"
      ],
      "metadata": {
        "id": "A9GK4dgl1ASS"
      },
      "execution_count": null,
      "outputs": []
    }
  ]
}